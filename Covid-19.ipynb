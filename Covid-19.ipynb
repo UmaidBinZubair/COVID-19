{
 "cells": [
  {
   "cell_type": "code",
   "execution_count": 48,
   "metadata": {},
   "outputs": [],
   "source": [
    "import numpy as np\n",
    "import pandas as pd\n",
    "import seaborn as sns\n",
    "import matplotlib.pyplot as plt"
   ]
  },
  {
   "cell_type": "code",
   "execution_count": 49,
   "metadata": {},
   "outputs": [],
   "source": [
    "df_death = pd.read_csv('Deaths.csv')\n",
    "df_rec = pd.read_csv('Recovered.csv')\n",
    "df_con = pd.read_csv('Confirmed.csv')"
   ]
  },
  {
   "cell_type": "code",
   "execution_count": 50,
   "metadata": {},
   "outputs": [
    {
     "data": {
      "text/html": [
       "<div>\n",
       "<style scoped>\n",
       "    .dataframe tbody tr th:only-of-type {\n",
       "        vertical-align: middle;\n",
       "    }\n",
       "\n",
       "    .dataframe tbody tr th {\n",
       "        vertical-align: top;\n",
       "    }\n",
       "\n",
       "    .dataframe thead th {\n",
       "        text-align: right;\n",
       "    }\n",
       "</style>\n",
       "<table border=\"1\" class=\"dataframe\">\n",
       "  <thead>\n",
       "    <tr style=\"text-align: right;\">\n",
       "      <th></th>\n",
       "      <th>Province/State</th>\n",
       "      <th>Country/Region</th>\n",
       "      <th>Lat</th>\n",
       "      <th>Long</th>\n",
       "      <th>1/22/20</th>\n",
       "      <th>1/23/20</th>\n",
       "      <th>1/24/20</th>\n",
       "      <th>1/25/20</th>\n",
       "      <th>1/26/20</th>\n",
       "      <th>1/27/20</th>\n",
       "      <th>...</th>\n",
       "      <th>3/13/20</th>\n",
       "      <th>3/14/20</th>\n",
       "      <th>3/15/20</th>\n",
       "      <th>3/16/20</th>\n",
       "      <th>3/17/20</th>\n",
       "      <th>3/18/20</th>\n",
       "      <th>3/19/20</th>\n",
       "      <th>3/20/20</th>\n",
       "      <th>3/21/20</th>\n",
       "      <th>3/22/20</th>\n",
       "    </tr>\n",
       "  </thead>\n",
       "  <tbody>\n",
       "    <tr>\n",
       "      <th>0</th>\n",
       "      <td>NaN</td>\n",
       "      <td>Thailand</td>\n",
       "      <td>15.0000</td>\n",
       "      <td>101.0000</td>\n",
       "      <td>0</td>\n",
       "      <td>0</td>\n",
       "      <td>0</td>\n",
       "      <td>0</td>\n",
       "      <td>0</td>\n",
       "      <td>0</td>\n",
       "      <td>...</td>\n",
       "      <td>1</td>\n",
       "      <td>1</td>\n",
       "      <td>1</td>\n",
       "      <td>1</td>\n",
       "      <td>1</td>\n",
       "      <td>1</td>\n",
       "      <td>1</td>\n",
       "      <td>1</td>\n",
       "      <td>1</td>\n",
       "      <td>1</td>\n",
       "    </tr>\n",
       "    <tr>\n",
       "      <th>1</th>\n",
       "      <td>NaN</td>\n",
       "      <td>Japan</td>\n",
       "      <td>36.0000</td>\n",
       "      <td>138.0000</td>\n",
       "      <td>0</td>\n",
       "      <td>0</td>\n",
       "      <td>0</td>\n",
       "      <td>0</td>\n",
       "      <td>0</td>\n",
       "      <td>0</td>\n",
       "      <td>...</td>\n",
       "      <td>19</td>\n",
       "      <td>22</td>\n",
       "      <td>22</td>\n",
       "      <td>27</td>\n",
       "      <td>29</td>\n",
       "      <td>29</td>\n",
       "      <td>29</td>\n",
       "      <td>33</td>\n",
       "      <td>35</td>\n",
       "      <td>40</td>\n",
       "    </tr>\n",
       "    <tr>\n",
       "      <th>2</th>\n",
       "      <td>NaN</td>\n",
       "      <td>Singapore</td>\n",
       "      <td>1.2833</td>\n",
       "      <td>103.8333</td>\n",
       "      <td>0</td>\n",
       "      <td>0</td>\n",
       "      <td>0</td>\n",
       "      <td>0</td>\n",
       "      <td>0</td>\n",
       "      <td>0</td>\n",
       "      <td>...</td>\n",
       "      <td>0</td>\n",
       "      <td>0</td>\n",
       "      <td>0</td>\n",
       "      <td>0</td>\n",
       "      <td>0</td>\n",
       "      <td>0</td>\n",
       "      <td>0</td>\n",
       "      <td>0</td>\n",
       "      <td>2</td>\n",
       "      <td>2</td>\n",
       "    </tr>\n",
       "    <tr>\n",
       "      <th>3</th>\n",
       "      <td>NaN</td>\n",
       "      <td>Nepal</td>\n",
       "      <td>28.1667</td>\n",
       "      <td>84.2500</td>\n",
       "      <td>0</td>\n",
       "      <td>0</td>\n",
       "      <td>0</td>\n",
       "      <td>0</td>\n",
       "      <td>0</td>\n",
       "      <td>0</td>\n",
       "      <td>...</td>\n",
       "      <td>0</td>\n",
       "      <td>0</td>\n",
       "      <td>0</td>\n",
       "      <td>0</td>\n",
       "      <td>0</td>\n",
       "      <td>0</td>\n",
       "      <td>0</td>\n",
       "      <td>0</td>\n",
       "      <td>0</td>\n",
       "      <td>0</td>\n",
       "    </tr>\n",
       "    <tr>\n",
       "      <th>4</th>\n",
       "      <td>NaN</td>\n",
       "      <td>Malaysia</td>\n",
       "      <td>2.5000</td>\n",
       "      <td>112.5000</td>\n",
       "      <td>0</td>\n",
       "      <td>0</td>\n",
       "      <td>0</td>\n",
       "      <td>0</td>\n",
       "      <td>0</td>\n",
       "      <td>0</td>\n",
       "      <td>...</td>\n",
       "      <td>0</td>\n",
       "      <td>0</td>\n",
       "      <td>0</td>\n",
       "      <td>0</td>\n",
       "      <td>2</td>\n",
       "      <td>2</td>\n",
       "      <td>2</td>\n",
       "      <td>3</td>\n",
       "      <td>4</td>\n",
       "      <td>10</td>\n",
       "    </tr>\n",
       "  </tbody>\n",
       "</table>\n",
       "<p>5 rows × 65 columns</p>\n",
       "</div>"
      ],
      "text/plain": [
       "  Province/State Country/Region      Lat      Long  1/22/20  1/23/20  1/24/20  \\\n",
       "0            NaN       Thailand  15.0000  101.0000        0        0        0   \n",
       "1            NaN          Japan  36.0000  138.0000        0        0        0   \n",
       "2            NaN      Singapore   1.2833  103.8333        0        0        0   \n",
       "3            NaN          Nepal  28.1667   84.2500        0        0        0   \n",
       "4            NaN       Malaysia   2.5000  112.5000        0        0        0   \n",
       "\n",
       "   1/25/20  1/26/20  1/27/20   ...     3/13/20  3/14/20  3/15/20  3/16/20  \\\n",
       "0        0        0        0   ...           1        1        1        1   \n",
       "1        0        0        0   ...          19       22       22       27   \n",
       "2        0        0        0   ...           0        0        0        0   \n",
       "3        0        0        0   ...           0        0        0        0   \n",
       "4        0        0        0   ...           0        0        0        0   \n",
       "\n",
       "   3/17/20  3/18/20  3/19/20  3/20/20  3/21/20  3/22/20  \n",
       "0        1        1        1        1        1        1  \n",
       "1       29       29       29       33       35       40  \n",
       "2        0        0        0        0        2        2  \n",
       "3        0        0        0        0        0        0  \n",
       "4        2        2        2        3        4       10  \n",
       "\n",
       "[5 rows x 65 columns]"
      ]
     },
     "execution_count": 50,
     "metadata": {},
     "output_type": "execute_result"
    }
   ],
   "source": [
    "df_death.head()"
   ]
  },
  {
   "cell_type": "code",
   "execution_count": 51,
   "metadata": {},
   "outputs": [],
   "source": [
    "df_death.drop(['Province/State','Lat','Long'],axis = 1,inplace = True)\n",
    "df_rec.drop(['Province/State','Lat','Long'],axis = 1,inplace = True)\n",
    "df_con.drop(['Province/State','Lat','Long'],axis = 1,inplace = True)"
   ]
  },
  {
   "cell_type": "code",
   "execution_count": 52,
   "metadata": {},
   "outputs": [],
   "source": [
    "# df.set_index('Country/Region',inplace = True)\n",
    "df_death['Total'] = df_death.sum(axis = 1)\n",
    "df_con['Total'] = df_death.sum(axis = 1)\n",
    "df_rec['Total'] = df_death.sum(axis = 1)"
   ]
  },
  {
   "cell_type": "code",
   "execution_count": 53,
   "metadata": {},
   "outputs": [],
   "source": [
    "df_death = df_death.set_index('Country/Region')\n",
    "df_con = df_con.set_index('Country/Region')\n",
    "df_rec = df_rec.set_index('Country/Region')"
   ]
  },
  {
   "cell_type": "code",
   "execution_count": 54,
   "metadata": {},
   "outputs": [],
   "source": [
    "# df_top10 = df.sort_values('Total',ascending = False)\n",
    "df_death_sum = df_death.groupby('Country/Region').sum()\n",
    "df_con_sum = df_con.groupby('Country/Region').sum()\n",
    "df_rec_sum = df_rec.groupby('Country/Region').sum()\n",
    "\n",
    "# df_top = df_top.sort_values('3/20/20',ascending = False)\n",
    "# df_top.head()"
   ]
  },
  {
   "cell_type": "code",
   "execution_count": 64,
   "metadata": {},
   "outputs": [],
   "source": [
    "# df_death_sum['Total'] = df_death_sum.sum(axis = 1)\n",
    "# df_con_sum.sort_values('Total',ascending = False).head()\n",
    "\n",
    "data = pd.DataFrame(index = df_death_sum.index.values)"
   ]
  },
  {
   "cell_type": "code",
   "execution_count": 65,
   "metadata": {},
   "outputs": [
    {
     "name": "stdout",
     "output_type": "stream",
     "text": [
      "1/22/20      0\n",
      "1/23/20      0\n",
      "1/24/20      0\n",
      "1/25/20      0\n",
      "1/26/20      0\n",
      "1/27/20      0\n",
      "1/28/20      0\n",
      "1/29/20      0\n",
      "1/30/20      0\n",
      "1/31/20      0\n",
      "2/1/20       0\n",
      "2/2/20       0\n",
      "2/3/20       0\n",
      "2/4/20       0\n",
      "2/5/20       0\n",
      "2/6/20       0\n",
      "2/7/20       0\n",
      "2/8/20       0\n",
      "2/9/20       0\n",
      "2/10/20      0\n",
      "2/11/20      0\n",
      "2/12/20      1\n",
      "2/13/20      1\n",
      "2/14/20      1\n",
      "2/15/20      1\n",
      "2/16/20      1\n",
      "2/17/20      1\n",
      "2/18/20      1\n",
      "2/19/20      1\n",
      "2/20/20      1\n",
      "          ... \n",
      "2/23/20      3\n",
      "2/24/20      3\n",
      "2/25/20      3\n",
      "2/26/20      3\n",
      "2/27/20      6\n",
      "2/28/20      6\n",
      "2/29/20      6\n",
      "3/1/20       6\n",
      "3/2/20       6\n",
      "3/3/20       6\n",
      "3/4/20       6\n",
      "3/5/20       6\n",
      "3/6/20       6\n",
      "3/7/20       8\n",
      "3/8/20       8\n",
      "3/9/20       8\n",
      "3/10/20      8\n",
      "3/11/20      8\n",
      "3/12/20      8\n",
      "3/13/20      8\n",
      "3/14/20      8\n",
      "3/15/20      8\n",
      "3/16/20      9\n",
      "3/17/20      9\n",
      "3/18/20      9\n",
      "3/19/20      9\n",
      "3/20/20      9\n",
      "3/21/20     10\n",
      "3/22/20     10\n",
      "Total      170\n",
      "Name: Canada, Length: 62, dtype: int64\n"
     ]
    }
   ],
   "source": [
    "temp1 = df_rec_sum.loc['Kenya'].copy()\n",
    "temp2 = df_rec_sum.loc['Guinea'].copy()\n",
    "temp3 = df_rec_sum.loc['Canada'].copy()\n",
    "\n",
    "print(temp3)\n",
    "\n",
    "# df_rec_sum.loc['Kenya'] = temp2\n",
    "# df_rec_sum.loc['Guinea'] = temp3\n",
    "# df_rec_sum.loc['Canada'] = temp1\n",
    "\n",
    "# df_rec.rename(index={'Kenya': 'Guinea','Guinea':'Canada','Canada':'Kenya'},inplace = True)"
   ]
  },
  {
   "cell_type": "code",
   "execution_count": 66,
   "metadata": {},
   "outputs": [],
   "source": [
    "data['death'] = df_death_sum['3/22/20']\n",
    "data['confirmed'] = df_con_sum['3/22/20']\n",
    "# data.drop('recovered',axis = 1,inplace = True)\n",
    "data['recov'] = df_rec_sum['3/22/20']"
   ]
  },
  {
   "cell_type": "code",
   "execution_count": 67,
   "metadata": {},
   "outputs": [
    {
     "data": {
      "text/plain": [
       "death         3265\n",
       "confirmed    81397\n",
       "recov        72362\n",
       "Name: China, dtype: int64"
      ]
     },
     "execution_count": 67,
     "metadata": {},
     "output_type": "execute_result"
    }
   ],
   "source": [
    "# data.loc['China']"
   ]
  },
  {
   "cell_type": "code",
   "execution_count": 39,
   "metadata": {},
   "outputs": [
    {
     "ename": "NameError",
     "evalue": "name 'df_top' is not defined",
     "output_type": "error",
     "traceback": [
      "\u001b[0;31m---------------------------------------------------------------------------\u001b[0m",
      "\u001b[0;31mNameError\u001b[0m                                 Traceback (most recent call last)",
      "\u001b[0;32m<ipython-input-39-c18b9c9efb1e>\u001b[0m in \u001b[0;36m<module>\u001b[0;34m()\u001b[0m\n\u001b[1;32m      1\u001b[0m \u001b[0;31m# columns = df_top.columns\u001b[0m\u001b[0;34m\u001b[0m\u001b[0;34m\u001b[0m\u001b[0m\n\u001b[0;32m----> 2\u001b[0;31m \u001b[0mdf_top\u001b[0m\u001b[0;34m.\u001b[0m\u001b[0mdrop\u001b[0m\u001b[0;34m(\u001b[0m\u001b[0;34m'Total'\u001b[0m\u001b[0;34m,\u001b[0m\u001b[0maxis\u001b[0m \u001b[0;34m=\u001b[0m \u001b[0;36m1\u001b[0m\u001b[0;34m)\u001b[0m\u001b[0;34m.\u001b[0m\u001b[0mhead\u001b[0m\u001b[0;34m(\u001b[0m\u001b[0;36m5\u001b[0m\u001b[0;34m)\u001b[0m\u001b[0;34m\u001b[0m\u001b[0m\n\u001b[0m\u001b[1;32m      3\u001b[0m \u001b[0mdf_top\u001b[0m\u001b[0;34m.\u001b[0m\u001b[0mcolumns\u001b[0m\u001b[0;34m.\u001b[0m\u001b[0mname\u001b[0m \u001b[0;34m=\u001b[0m \u001b[0;34m'days'\u001b[0m\u001b[0;34m\u001b[0m\u001b[0m\n\u001b[1;32m      4\u001b[0m \u001b[0;31m# df_top\u001b[0m\u001b[0;34m\u001b[0m\u001b[0;34m\u001b[0m\u001b[0m\n\u001b[1;32m      5\u001b[0m \u001b[0mdf_top\u001b[0m\u001b[0;34m.\u001b[0m\u001b[0mhead\u001b[0m\u001b[0;34m(\u001b[0m\u001b[0;36m5\u001b[0m\u001b[0;34m)\u001b[0m\u001b[0;34m.\u001b[0m\u001b[0mT\u001b[0m\u001b[0;34m.\u001b[0m\u001b[0mplot\u001b[0m\u001b[0;34m(\u001b[0m\u001b[0mkind\u001b[0m \u001b[0;34m=\u001b[0m \u001b[0;34m'line'\u001b[0m\u001b[0;34m,\u001b[0m\u001b[0mfigsize\u001b[0m \u001b[0;34m=\u001b[0m \u001b[0;34m(\u001b[0m\u001b[0;36m20\u001b[0m\u001b[0;34m,\u001b[0m\u001b[0;36m10\u001b[0m\u001b[0;34m)\u001b[0m\u001b[0;34m,\u001b[0m\u001b[0mlinewidth\u001b[0m\u001b[0;34m=\u001b[0m\u001b[0;36m2.5\u001b[0m\u001b[0;34m)\u001b[0m\u001b[0;34m\u001b[0m\u001b[0m\n",
      "\u001b[0;31mNameError\u001b[0m: name 'df_top' is not defined"
     ]
    }
   ],
   "source": [
    "# columns = df_top.columns\n",
    "df_top.drop('Total',axis = 1).head(5)\n",
    "df_top.columns.name = 'days'\n",
    "# df_top\n",
    "df_top.head(5).T.plot(kind = 'line',figsize = (20,10),linewidth=2.5)"
   ]
  },
  {
   "cell_type": "code",
   "execution_count": 144,
   "metadata": {},
   "outputs": [],
   "source": [
    "data_plot = data.sort_values('confirmed',ascending = False).head(8)"
   ]
  },
  {
   "cell_type": "code",
   "execution_count": 78,
   "metadata": {},
   "outputs": [],
   "source": [
    "data_plot.reset_index(inplace = True)"
   ]
  },
  {
   "cell_type": "code",
   "execution_count": 125,
   "metadata": {},
   "outputs": [
    {
     "data": {
      "text/html": [
       "<div>\n",
       "<style scoped>\n",
       "    .dataframe tbody tr th:only-of-type {\n",
       "        vertical-align: middle;\n",
       "    }\n",
       "\n",
       "    .dataframe tbody tr th {\n",
       "        vertical-align: top;\n",
       "    }\n",
       "\n",
       "    .dataframe thead th {\n",
       "        text-align: right;\n",
       "    }\n",
       "</style>\n",
       "<table border=\"1\" class=\"dataframe\">\n",
       "  <thead>\n",
       "    <tr style=\"text-align: right;\">\n",
       "      <th></th>\n",
       "      <th>death</th>\n",
       "      <th>confirmed</th>\n",
       "      <th>recov</th>\n",
       "    </tr>\n",
       "  </thead>\n",
       "  <tbody>\n",
       "    <tr>\n",
       "      <th>China</th>\n",
       "      <td>3265</td>\n",
       "      <td>81397</td>\n",
       "      <td>72362</td>\n",
       "    </tr>\n",
       "    <tr>\n",
       "      <th>Italy</th>\n",
       "      <td>5476</td>\n",
       "      <td>59138</td>\n",
       "      <td>7024</td>\n",
       "    </tr>\n",
       "    <tr>\n",
       "      <th>US</th>\n",
       "      <td>417</td>\n",
       "      <td>33272</td>\n",
       "      <td>0</td>\n",
       "    </tr>\n",
       "    <tr>\n",
       "      <th>Spain</th>\n",
       "      <td>1772</td>\n",
       "      <td>28768</td>\n",
       "      <td>2575</td>\n",
       "    </tr>\n",
       "    <tr>\n",
       "      <th>Germany</th>\n",
       "      <td>94</td>\n",
       "      <td>24873</td>\n",
       "      <td>266</td>\n",
       "    </tr>\n",
       "  </tbody>\n",
       "</table>\n",
       "</div>"
      ],
      "text/plain": [
       "         death  confirmed  recov\n",
       "China     3265      81397  72362\n",
       "Italy     5476      59138   7024\n",
       "US         417      33272      0\n",
       "Spain     1772      28768   2575\n",
       "Germany     94      24873    266"
      ]
     },
     "execution_count": 125,
     "metadata": {},
     "output_type": "execute_result"
    }
   ],
   "source": [
    "data_plot.head()"
   ]
  },
  {
   "cell_type": "code",
   "execution_count": 146,
   "metadata": {},
   "outputs": [
    {
     "name": "stdout",
     "output_type": "stream",
     "text": [
      "['China' 'Italy' 'US' 'Spain' 'Germany' 'Iran' 'France' 'Korea, South']\n"
     ]
    },
    {
     "data": {
      "image/png": "[encoded data removed]",
      "text/plain": [
       "<Figure size 1008x576 with 1 Axes>"
      ]
     },
     "metadata": {},
     "output_type": "display_data"
    }
   ],
   "source": [
    "x = data_plot.recov.values\n",
    "y = data_plot.confirmed.values\n",
    "ax = data_plot.plot(kind='scatter',\n",
    "                    x='recov',\n",
    "                    y='confirmed',\n",
    "                    figsize=(14, 8),\n",
    "#                     label = data_plot.index.values,\n",
    "                    alpha=0.5,                  # transparency\n",
    "#                     color='green',\n",
    "                    s=data_plot.death.values,  # pass in weights \n",
    "                   )\n",
    "# ax.scatter()\n",
    "\n",
    "n = data_plot.index.values\n",
    "print(n)\n",
    "\n",
    "# ax.annotate('China',(72362,81397))\n",
    "for i, txt in enumerate(n):\n",
    "    ax.annotate(str(txt), (x[i]-700, y[i]))\n",
    "#     print(txt,x[i],y[i])"
   ]
  },
  {
   "cell_type": "code",
   "execution_count": null,
   "metadata": {},
   "outputs": [],
   "source": []
  }
 ],
 "metadata": {
  "kernelspec": {
   "display_name": "Python 3",
   "language": "python",
   "name": "python3"
  },
  "language_info": {
   "codemirror_mode": {
    "name": "ipython",
    "version": 3
   },
   "file_extension": ".py",
   "mimetype": "text/x-python",
   "name": "python",
   "nbconvert_exporter": "python",
   "pygments_lexer": "ipython3",
   "version": "3.6.5"
  }
 },
 "nbformat": 4,
 "nbformat_minor": 2
}
