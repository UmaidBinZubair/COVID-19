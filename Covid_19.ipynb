{
 "cells": [
  {
   "cell_type": "code",
   "execution_count": 1,
   "metadata": {
    "colab": {
     "base_uri": "https://localhost:8080/",
     "height": 73
    },
    "colab_type": "code",
    "id": "3GsWAlL-8R_G",
    "outputId": "22fb57d9-f9a5-41bd-9d31-6c4cec255383"
   },
   "outputs": [],
   "source": [
    "import numpy as np\n",
    "import pandas as pd\n",
    "import seaborn as sns\n",
    "import matplotlib.pyplot as plt\n",
    "# import matplotlib.cm am\n",
    "import folium"
   ]
  },
  {
   "cell_type": "code",
   "execution_count": 2,
   "metadata": {
    "colab": {},
    "colab_type": "code",
    "id": "Xn_KsI5y8R_O"
   },
   "outputs": [],
   "source": [
    "# !pip install folium\n",
    "# import folium"
   ]
  },
  {
   "cell_type": "code",
   "execution_count": 3,
   "metadata": {
    "colab": {
     "base_uri": "https://localhost:8080/",
     "height": 396
    },
    "colab_type": "code",
    "id": "MHJiXdK5gaeq",
    "outputId": "ba52dbca-cf6c-4116-bf51-f34b0123e704"
   },
   "outputs": [],
   "source": [
    "# !wget -O 'death.csv' 'https://data.humdata.org/hxlproxy/api/data-preview.csv?url=https%3A%2F%2Fraw.githubusercontent.com%2FCSSEGISandData%2FCOVID-19%2Fmaster%2Fcsse_covid_19_data%2Fcsse_covid_19_time_series%2Ftime_series_covid19_deaths_global.csv&filename=time_series_covid19_deaths_global.csv'"
   ]
  },
  {
   "cell_type": "code",
   "execution_count": 4,
   "metadata": {
    "colab": {
     "base_uri": "https://localhost:8080/",
     "height": 448
    },
    "colab_type": "code",
    "id": "bv656LCK8R_V",
    "outputId": "2e6b8b72-b653-44b0-fa6a-a7ea41886bf7"
   },
   "outputs": [],
   "source": [
    "df_death = pd.read_csv('Deaths.csv')\n",
    "df_rec = pd.read_csv('Recovered.csv')\n",
    "df_con = pd.read_csv('Confirmed.csv')\n",
    "# df_death = pd.read_csv('https://data.humdata.org/hxlproxy/api/data-preview.csv?url=https%3A%2F%2Fraw.githubusercontent.com%2FCSSEGISandData%2FCOVID-19%2Fmaster%2Fcsse_covid_19_data%2Fcsse_covid_19_time_series%2Ftime_series_covid19_deaths_global.csv&filename=time_series_covid19_deaths_global.csv')\n",
    "# df_con = pd.read_csv('https://data.humdata.org/hxlproxy/api/data-preview.csv?url=https%3A%2F%2Fraw.githubusercontent.com%2FCSSEGISandData%2FCOVID-19%2Fmaster%2Fcsse_covid_19_data%2Fcsse_covid_19_time_series%2Ftime_series_covid19_confirmed_global.csv&filename=time_series_covid19_confirmed_global.csv')\n",
    "# df_rec = pd.read_csv('https://data.humdata.org/hxlproxy/api/data-preview.csv?url=https%3A%2F%2Fraw.githubusercontent.com%2FCSSEGISandData%2FCOVID-19%2Fmaster%2Fcsse_covid_19_data%2Fcsse_covid_19_time_series%2Ftime_series_covid19_recovered_global.csv&filename=time_series_covid19_recovered_global.csv')\n",
    "# df_rec = pd.read_csv('https://data.humdata.org/hxlproxy/api/data-preview.csv?url=https%3A%2F%2Fraw.githubusercontent.com%2FCSSEGISandData%2FCOVID-19%2Fmaster%2Fcsse_covid_19_data%2Fcsse_covid_19_time_series%2Ftime_series_19-covid-Recovered.csv&filename=time_series_2019-ncov-Recovered.csv')"
   ]
  },
  {
   "cell_type": "code",
   "execution_count": 5,
   "metadata": {
    "colab": {},
    "colab_type": "code",
    "id": "P0kU5IMi8R_Z"
   },
   "outputs": [
    {
     "data": {
      "text/html": [
       "<div>\n",
       "<style scoped>\n",
       "    .dataframe tbody tr th:only-of-type {\n",
       "        vertical-align: middle;\n",
       "    }\n",
       "\n",
       "    .dataframe tbody tr th {\n",
       "        vertical-align: top;\n",
       "    }\n",
       "\n",
       "    .dataframe thead th {\n",
       "        text-align: right;\n",
       "    }\n",
       "</style>\n",
       "<table border=\"1\" class=\"dataframe\">\n",
       "  <thead>\n",
       "    <tr style=\"text-align: right;\">\n",
       "      <th></th>\n",
       "      <th>Province/State</th>\n",
       "      <th>Country/Region</th>\n",
       "      <th>Lat</th>\n",
       "      <th>Long</th>\n",
       "      <th>1/22/20</th>\n",
       "      <th>1/23/20</th>\n",
       "      <th>1/24/20</th>\n",
       "      <th>1/25/20</th>\n",
       "      <th>1/26/20</th>\n",
       "      <th>1/27/20</th>\n",
       "      <th>...</th>\n",
       "      <th>3/13/20</th>\n",
       "      <th>3/14/20</th>\n",
       "      <th>3/15/20</th>\n",
       "      <th>3/16/20</th>\n",
       "      <th>3/17/20</th>\n",
       "      <th>3/18/20</th>\n",
       "      <th>3/19/20</th>\n",
       "      <th>3/20/20</th>\n",
       "      <th>3/21/20</th>\n",
       "      <th>3/22/20</th>\n",
       "    </tr>\n",
       "  </thead>\n",
       "  <tbody>\n",
       "    <tr>\n",
       "      <th>Confirmed</th>\n",
       "      <td>NaN</td>\n",
       "      <td>Pakistan</td>\n",
       "      <td>30.3753</td>\n",
       "      <td>69.3451</td>\n",
       "      <td>0</td>\n",
       "      <td>0</td>\n",
       "      <td>0</td>\n",
       "      <td>0</td>\n",
       "      <td>0</td>\n",
       "      <td>0</td>\n",
       "      <td>...</td>\n",
       "      <td>28</td>\n",
       "      <td>31</td>\n",
       "      <td>53</td>\n",
       "      <td>136</td>\n",
       "      <td>236</td>\n",
       "      <td>299</td>\n",
       "      <td>454</td>\n",
       "      <td>501</td>\n",
       "      <td>730</td>\n",
       "      <td>776</td>\n",
       "    </tr>\n",
       "    <tr>\n",
       "      <th>Death</th>\n",
       "      <td>NaN</td>\n",
       "      <td>Pakistan</td>\n",
       "      <td>30.3753</td>\n",
       "      <td>69.3451</td>\n",
       "      <td>0</td>\n",
       "      <td>0</td>\n",
       "      <td>0</td>\n",
       "      <td>0</td>\n",
       "      <td>0</td>\n",
       "      <td>0</td>\n",
       "      <td>...</td>\n",
       "      <td>0</td>\n",
       "      <td>0</td>\n",
       "      <td>0</td>\n",
       "      <td>0</td>\n",
       "      <td>0</td>\n",
       "      <td>0</td>\n",
       "      <td>2</td>\n",
       "      <td>3</td>\n",
       "      <td>3</td>\n",
       "      <td>5</td>\n",
       "    </tr>\n",
       "    <tr>\n",
       "      <th>Recovered</th>\n",
       "      <td>NaN</td>\n",
       "      <td>Pakistan</td>\n",
       "      <td>30.3753</td>\n",
       "      <td>69.3451</td>\n",
       "      <td>0</td>\n",
       "      <td>0</td>\n",
       "      <td>0</td>\n",
       "      <td>0</td>\n",
       "      <td>0</td>\n",
       "      <td>0</td>\n",
       "      <td>...</td>\n",
       "      <td>2</td>\n",
       "      <td>2</td>\n",
       "      <td>2</td>\n",
       "      <td>2</td>\n",
       "      <td>2</td>\n",
       "      <td>2</td>\n",
       "      <td>13</td>\n",
       "      <td>13</td>\n",
       "      <td>13</td>\n",
       "      <td>5</td>\n",
       "    </tr>\n",
       "  </tbody>\n",
       "</table>\n",
       "<p>3 rows × 65 columns</p>\n",
       "</div>"
      ],
      "text/plain": [
       "          Province/State Country/Region      Lat     Long 1/22/20 1/23/20  \\\n",
       "Confirmed            NaN       Pakistan  30.3753  69.3451       0       0   \n",
       "Death                NaN       Pakistan  30.3753  69.3451       0       0   \n",
       "Recovered            NaN       Pakistan  30.3753  69.3451       0       0   \n",
       "\n",
       "          1/24/20 1/25/20 1/26/20 1/27/20   ...   3/13/20 3/14/20 3/15/20  \\\n",
       "Confirmed       0       0       0       0   ...        28      31      53   \n",
       "Death           0       0       0       0   ...         0       0       0   \n",
       "Recovered       0       0       0       0   ...         2       2       2   \n",
       "\n",
       "          3/16/20 3/17/20 3/18/20 3/19/20 3/20/20 3/21/20 3/22/20  \n",
       "Confirmed     136     236     299     454     501     730     776  \n",
       "Death           0       0       0       2       3       3       5  \n",
       "Recovered       2       2       2      13      13      13       5  \n",
       "\n",
       "[3 rows x 65 columns]"
      ]
     },
     "execution_count": 5,
     "metadata": {},
     "output_type": "execute_result"
    }
   ],
   "source": [
    "pakistan = pd.DataFrame(columns = df_death.columns.values,index = ['Confirmed','Death','Recovered'])\n",
    "pakistan.loc['Confirmed'] = df_con[df_con['Country/Region'] == 'Pakistan'].values\n",
    "pakistan.loc['Recovered'] = df_rec[df_con['Country/Region'] == 'Pakistan'].values\n",
    "pakistan.loc['Death'] = df_death[df_death['Country/Region'] == 'Pakistan'].values\n",
    "pakistan"
   ]
  },
  {
   "cell_type": "code",
   "execution_count": 6,
   "metadata": {
    "colab": {},
    "colab_type": "code",
    "id": "3Y8mg_5jCeV6"
   },
   "outputs": [
    {
     "data": {
      "text/plain": [
       "Text(45, 200, 'Knee Point (Day : 15th March)')"
      ]
     },
     "execution_count": 6,
     "metadata": {},
     "output_type": "execute_result"
    },
    {
     "data": {
      "image/png": "[encoded data removed]",
      "text/plain": [
       "<Figure size 1440x720 with 1 Axes>"
      ]
     },
     "metadata": {},
     "output_type": "display_data"
    }
   ],
   "source": [
    "ax = pakistan.drop(['Province/State','Country/Region','Lat','Long'],axis = 1).loc['Confirmed'].T.plot(kind = 'line',figsize = (20,10))\n",
    "ax.set_title('Confirmed Cases in Pakistan')\n",
    "ax.set_xlabel('Days')\n",
    "ax.set_ylabel('Cases')\n",
    "ax.annotate(\"Knee Point (Day : 15th March)\", xy=(52, 53), xytext=(45, 200),arrowprops=dict(arrowstyle=\"->\"))"
   ]
  },
  {
   "cell_type": "code",
   "execution_count": 7,
   "metadata": {
    "colab": {},
    "colab_type": "code",
    "id": "rvDVwWG28R_i"
   },
   "outputs": [],
   "source": [
    "df_death.drop(['Province/State'],axis = 1,inplace = True)\n",
    "df_rec.drop(['Province/State'],axis = 1,inplace = True)\n",
    "df_con.drop(['Province/State'],axis = 1,inplace = True)"
   ]
  },
  {
   "cell_type": "code",
   "execution_count": 8,
   "metadata": {
    "colab": {},
    "colab_type": "code",
    "id": "LwNy4O658R_n"
   },
   "outputs": [],
   "source": [
    "# df.set_index('Country/Region',inplace = True)\n",
    "# df_death['Total'] = df_death.sum(axis = 1)\n",
    "# dfI_con['Total'] = df_death.sum(axis = 1)\n",
    "# df_rec['Total'] = df_death.sum(axis = 1)"
   ]
  },
  {
   "cell_type": "code",
   "execution_count": 9,
   "metadata": {
    "colab": {},
    "colab_type": "code",
    "id": "QHXa_4IE8R_r"
   },
   "outputs": [],
   "source": [
    "df_death = df_death.set_index('Country/Region')\n",
    "df_con = df_con.set_index('Country/Region')\n",
    "df_rec = df_rec.set_index('Country/Region')"
   ]
  },
  {
   "cell_type": "code",
   "execution_count": 10,
   "metadata": {
    "colab": {},
    "colab_type": "code",
    "id": "X0RBJnME8R_v"
   },
   "outputs": [],
   "source": [
    "df_death_sum = df_death.groupby('Country/Region').sum()\n",
    "df_con_sum = df_con.groupby('Country/Region').sum()\n",
    "df_rec_sum = df_rec.groupby('Country/Region').sum()"
   ]
  },
  {
   "cell_type": "code",
   "execution_count": 11,
   "metadata": {
    "colab": {},
    "colab_type": "code",
    "id": "8j-TBpzd8R_z"
   },
   "outputs": [],
   "source": [
    "# temp1 = df_rec_sum.loc['Kenya'].copy()\n",
    "# temp2 = df_rec_sum.loc['Guinea'].copy()\n",
    "# temp3 = df_rec_sum.loc['Canada'].copy()\n",
    "\n",
    "# print(temp3)\n",
    "\n",
    "# df_rec_sum.loc['Kenya'] = temp2\n",
    "# df_rec_sum.loc['Guinea'] = temp3\n",
    "# df_rec_sum.loc['Canada'] = temp1\n",
    "\n",
    "# df_rec.rename(index={'Kenya': 'Guinea','Guinea':'Canada','Canada':'Kenya'},inplace = True)"
   ]
  },
  {
   "cell_type": "code",
   "execution_count": 14,
   "metadata": {
    "colab": {},
    "colab_type": "code",
    "id": "Zw-Iy47EAg63"
   },
   "outputs": [
    {
     "data": {
      "text/html": [
       "<div>\n",
       "<style scoped>\n",
       "    .dataframe tbody tr th:only-of-type {\n",
       "        vertical-align: middle;\n",
       "    }\n",
       "\n",
       "    .dataframe tbody tr th {\n",
       "        vertical-align: top;\n",
       "    }\n",
       "\n",
       "    .dataframe thead th {\n",
       "        text-align: right;\n",
       "    }\n",
       "</style>\n",
       "<table border=\"1\" class=\"dataframe\">\n",
       "  <thead>\n",
       "    <tr style=\"text-align: right;\">\n",
       "      <th></th>\n",
       "      <th>1/22/20</th>\n",
       "      <th>1/23/20</th>\n",
       "      <th>1/24/20</th>\n",
       "      <th>1/25/20</th>\n",
       "      <th>1/26/20</th>\n",
       "      <th>1/27/20</th>\n",
       "      <th>1/28/20</th>\n",
       "      <th>1/29/20</th>\n",
       "      <th>1/30/20</th>\n",
       "      <th>1/31/20</th>\n",
       "      <th>...</th>\n",
       "      <th>3/13/20</th>\n",
       "      <th>3/14/20</th>\n",
       "      <th>3/15/20</th>\n",
       "      <th>3/16/20</th>\n",
       "      <th>3/17/20</th>\n",
       "      <th>3/18/20</th>\n",
       "      <th>3/19/20</th>\n",
       "      <th>3/20/20</th>\n",
       "      <th>3/21/20</th>\n",
       "      <th>3/22/20</th>\n",
       "    </tr>\n",
       "    <tr>\n",
       "      <th>Country/Region</th>\n",
       "      <th></th>\n",
       "      <th></th>\n",
       "      <th></th>\n",
       "      <th></th>\n",
       "      <th></th>\n",
       "      <th></th>\n",
       "      <th></th>\n",
       "      <th></th>\n",
       "      <th></th>\n",
       "      <th></th>\n",
       "      <th></th>\n",
       "      <th></th>\n",
       "      <th></th>\n",
       "      <th></th>\n",
       "      <th></th>\n",
       "      <th></th>\n",
       "      <th></th>\n",
       "      <th></th>\n",
       "      <th></th>\n",
       "      <th></th>\n",
       "      <th></th>\n",
       "    </tr>\n",
       "  </thead>\n",
       "  <tbody>\n",
       "    <tr>\n",
       "      <th>China</th>\n",
       "      <td>548</td>\n",
       "      <td>643</td>\n",
       "      <td>920</td>\n",
       "      <td>1406</td>\n",
       "      <td>2075</td>\n",
       "      <td>2877</td>\n",
       "      <td>5509</td>\n",
       "      <td>6087</td>\n",
       "      <td>8141</td>\n",
       "      <td>9802</td>\n",
       "      <td>...</td>\n",
       "      <td>80945</td>\n",
       "      <td>80977</td>\n",
       "      <td>81003</td>\n",
       "      <td>81033</td>\n",
       "      <td>81058</td>\n",
       "      <td>81102</td>\n",
       "      <td>81156</td>\n",
       "      <td>81250</td>\n",
       "      <td>81305</td>\n",
       "      <td>81397</td>\n",
       "    </tr>\n",
       "    <tr>\n",
       "      <th>Italy</th>\n",
       "      <td>0</td>\n",
       "      <td>0</td>\n",
       "      <td>0</td>\n",
       "      <td>0</td>\n",
       "      <td>0</td>\n",
       "      <td>0</td>\n",
       "      <td>0</td>\n",
       "      <td>0</td>\n",
       "      <td>0</td>\n",
       "      <td>2</td>\n",
       "      <td>...</td>\n",
       "      <td>17660</td>\n",
       "      <td>21157</td>\n",
       "      <td>24747</td>\n",
       "      <td>27980</td>\n",
       "      <td>31506</td>\n",
       "      <td>35713</td>\n",
       "      <td>41035</td>\n",
       "      <td>47021</td>\n",
       "      <td>53578</td>\n",
       "      <td>59138</td>\n",
       "    </tr>\n",
       "    <tr>\n",
       "      <th>US</th>\n",
       "      <td>1</td>\n",
       "      <td>1</td>\n",
       "      <td>2</td>\n",
       "      <td>2</td>\n",
       "      <td>5</td>\n",
       "      <td>5</td>\n",
       "      <td>5</td>\n",
       "      <td>5</td>\n",
       "      <td>5</td>\n",
       "      <td>7</td>\n",
       "      <td>...</td>\n",
       "      <td>2179</td>\n",
       "      <td>2727</td>\n",
       "      <td>3499</td>\n",
       "      <td>4632</td>\n",
       "      <td>6421</td>\n",
       "      <td>7783</td>\n",
       "      <td>13677</td>\n",
       "      <td>19100</td>\n",
       "      <td>25489</td>\n",
       "      <td>33272</td>\n",
       "    </tr>\n",
       "    <tr>\n",
       "      <th>Spain</th>\n",
       "      <td>0</td>\n",
       "      <td>0</td>\n",
       "      <td>0</td>\n",
       "      <td>0</td>\n",
       "      <td>0</td>\n",
       "      <td>0</td>\n",
       "      <td>0</td>\n",
       "      <td>0</td>\n",
       "      <td>0</td>\n",
       "      <td>0</td>\n",
       "      <td>...</td>\n",
       "      <td>5232</td>\n",
       "      <td>6391</td>\n",
       "      <td>7798</td>\n",
       "      <td>9942</td>\n",
       "      <td>11748</td>\n",
       "      <td>13910</td>\n",
       "      <td>17963</td>\n",
       "      <td>20410</td>\n",
       "      <td>25374</td>\n",
       "      <td>28768</td>\n",
       "    </tr>\n",
       "    <tr>\n",
       "      <th>Germany</th>\n",
       "      <td>0</td>\n",
       "      <td>0</td>\n",
       "      <td>0</td>\n",
       "      <td>0</td>\n",
       "      <td>0</td>\n",
       "      <td>1</td>\n",
       "      <td>4</td>\n",
       "      <td>4</td>\n",
       "      <td>4</td>\n",
       "      <td>5</td>\n",
       "      <td>...</td>\n",
       "      <td>3675</td>\n",
       "      <td>4585</td>\n",
       "      <td>5795</td>\n",
       "      <td>7272</td>\n",
       "      <td>9257</td>\n",
       "      <td>12327</td>\n",
       "      <td>15320</td>\n",
       "      <td>19848</td>\n",
       "      <td>22213</td>\n",
       "      <td>24873</td>\n",
       "    </tr>\n",
       "  </tbody>\n",
       "</table>\n",
       "<p>5 rows × 61 columns</p>\n",
       "</div>"
      ],
      "text/plain": [
       "                1/22/20  1/23/20  1/24/20  1/25/20  1/26/20  1/27/20  1/28/20  \\\n",
       "Country/Region                                                                  \n",
       "China               548      643      920     1406     2075     2877     5509   \n",
       "Italy                 0        0        0        0        0        0        0   \n",
       "US                    1        1        2        2        5        5        5   \n",
       "Spain                 0        0        0        0        0        0        0   \n",
       "Germany               0        0        0        0        0        1        4   \n",
       "\n",
       "                1/29/20  1/30/20  1/31/20   ...     3/13/20  3/14/20  3/15/20  \\\n",
       "Country/Region                              ...                                 \n",
       "China              6087     8141     9802   ...       80945    80977    81003   \n",
       "Italy                 0        0        2   ...       17660    21157    24747   \n",
       "US                    5        5        7   ...        2179     2727     3499   \n",
       "Spain                 0        0        0   ...        5232     6391     7798   \n",
       "Germany               4        4        5   ...        3675     4585     5795   \n",
       "\n",
       "                3/16/20  3/17/20  3/18/20  3/19/20  3/20/20  3/21/20  3/22/20  \n",
       "Country/Region                                                                 \n",
       "China             81033    81058    81102    81156    81250    81305    81397  \n",
       "Italy             27980    31506    35713    41035    47021    53578    59138  \n",
       "US                 4632     6421     7783    13677    19100    25489    33272  \n",
       "Spain              9942    11748    13910    17963    20410    25374    28768  \n",
       "Germany            7272     9257    12327    15320    19848    22213    24873  \n",
       "\n",
       "[5 rows x 61 columns]"
      ]
     },
     "execution_count": 14,
     "metadata": {},
     "output_type": "execute_result"
    }
   ],
   "source": [
    "df_top5 = df_con_sum.drop(['Lat','Long'],axis = 1).sort_values(df_con.columns.values[-1],ascending = False).head()\n",
    "df_top5"
   ]
  },
  {
   "cell_type": "code",
   "execution_count": 15,
   "metadata": {
    "colab": {},
    "colab_type": "code",
    "id": "JjNtr1SLBBB9"
   },
   "outputs": [
    {
     "data": {
      "text/plain": [
       "Text(0.5, 1.0, 'Top 5 countries with confirmed cases of COVID-19')"
      ]
     },
     "execution_count": 15,
     "metadata": {},
     "output_type": "execute_result"
    },
    {
     "data": {
      "image/png": "[encoded data removed]",
      "text/plain": [
       "<Figure size 1440x720 with 1 Axes>"
      ]
     },
     "metadata": {},
     "output_type": "display_data"
    }
   ],
   "source": [
    "df_top5.T.plot(kind = 'line',figsize = (20,10))\n",
    "plt.xlabel('Days')\n",
    "plt.ylabel('Cases')\n",
    "plt.title('Top 5 countries with confirmed cases of COVID-19')"
   ]
  },
  {
   "cell_type": "code",
   "execution_count": 16,
   "metadata": {
    "colab": {},
    "colab_type": "code",
    "id": "VAroYK2e8R_3"
   },
   "outputs": [],
   "source": [
    "data = pd.DataFrame(index = df_death_sum.index.values)\n",
    "data['confirmed'] = df_con_sum.iloc[:,-1]\n",
    "data['death'] = df_death_sum.iloc[:,-1]\n",
    "data['recov'] = df_rec_sum.iloc[:,-1]"
   ]
  },
  {
   "cell_type": "code",
   "execution_count": 17,
   "metadata": {
    "colab": {},
    "colab_type": "code",
    "id": "DrLLje3U8R__"
   },
   "outputs": [],
   "source": [
    "# # columns = df_top.columns\n",
    "# df_top.drop('Total',axis = 1).head(5) no\n",
    "# df_top.columns.name = 'days'\n",
    "# # df_top\n",
    "# df_top.head(5).T.plot(kind = 'line',figsize = (20,10),linewidth=2.5)"
   ]
  },
  {
   "cell_type": "code",
   "execution_count": 18,
   "metadata": {
    "colab": {},
    "colab_type": "code",
    "id": "A_oSc1dF8SAE"
   },
   "outputs": [],
   "source": [
    "data_plot = data.sort_values('confirmed',ascending = False).head(8)"
   ]
  },
  {
   "cell_type": "code",
   "execution_count": 19,
   "metadata": {
    "colab": {},
    "colab_type": "code",
    "id": "BRDl7br48SAH"
   },
   "outputs": [],
   "source": [
    "# data_plot.reset_index(inplace = True)"
   ]
  },
  {
   "cell_type": "code",
   "execution_count": 20,
   "metadata": {
    "colab": {},
    "colab_type": "code",
    "id": "ctgm_8yw8SAN"
   },
   "outputs": [
    {
     "data": {
      "text/html": [
       "<div>\n",
       "<style scoped>\n",
       "    .dataframe tbody tr th:only-of-type {\n",
       "        vertical-align: middle;\n",
       "    }\n",
       "\n",
       "    .dataframe tbody tr th {\n",
       "        vertical-align: top;\n",
       "    }\n",
       "\n",
       "    .dataframe thead th {\n",
       "        text-align: right;\n",
       "    }\n",
       "</style>\n",
       "<table border=\"1\" class=\"dataframe\">\n",
       "  <thead>\n",
       "    <tr style=\"text-align: right;\">\n",
       "      <th></th>\n",
       "      <th>confirmed</th>\n",
       "      <th>death</th>\n",
       "      <th>recov</th>\n",
       "    </tr>\n",
       "  </thead>\n",
       "  <tbody>\n",
       "    <tr>\n",
       "      <th>China</th>\n",
       "      <td>81397</td>\n",
       "      <td>3265</td>\n",
       "      <td>72362</td>\n",
       "    </tr>\n",
       "    <tr>\n",
       "      <th>Italy</th>\n",
       "      <td>59138</td>\n",
       "      <td>5476</td>\n",
       "      <td>7024</td>\n",
       "    </tr>\n",
       "    <tr>\n",
       "      <th>US</th>\n",
       "      <td>33272</td>\n",
       "      <td>417</td>\n",
       "      <td>0</td>\n",
       "    </tr>\n",
       "    <tr>\n",
       "      <th>Spain</th>\n",
       "      <td>28768</td>\n",
       "      <td>1772</td>\n",
       "      <td>2575</td>\n",
       "    </tr>\n",
       "    <tr>\n",
       "      <th>Germany</th>\n",
       "      <td>24873</td>\n",
       "      <td>94</td>\n",
       "      <td>266</td>\n",
       "    </tr>\n",
       "  </tbody>\n",
       "</table>\n",
       "</div>"
      ],
      "text/plain": [
       "         confirmed  death  recov\n",
       "China        81397   3265  72362\n",
       "Italy        59138   5476   7024\n",
       "US           33272    417      0\n",
       "Spain        28768   1772   2575\n",
       "Germany      24873     94    266"
      ]
     },
     "execution_count": 20,
     "metadata": {},
     "output_type": "execute_result"
    }
   ],
   "source": [
    "data_plot.head()"
   ]
  },
  {
   "cell_type": "code",
   "execution_count": 21,
   "metadata": {
    "colab": {},
    "colab_type": "code",
    "id": "nhGNa_Tv_oIK"
   },
   "outputs": [
    {
     "data": {
      "text/plain": [
       "Text(0.5, 1.0, 'Top 5 countries with confirmed cases of COVID-19')"
      ]
     },
     "execution_count": 21,
     "metadata": {},
     "output_type": "execute_result"
    },
    {
     "data": {
      "image/png": "[encoded data removed]",
      "text/plain": [
       "<Figure size 1440x720 with 1 Axes>"
      ]
     },
     "metadata": {},
     "output_type": "display_data"
    }
   ],
   "source": [
    "data_plot.plot(kind = 'bar',figsize = (20,10),stacked = True)\n",
    "plt.xlabel('Countries')\n",
    "plt.ylabel('Cases')\n",
    "plt.title('Top 5 countries with confirmed cases of COVID-19')"
   ]
  },
  {
   "cell_type": "code",
   "execution_count": null,
   "metadata": {
    "colab": {},
    "colab_type": "code",
    "id": "jh8lYZqW8SAS",
    "scrolled": true
   },
   "outputs": [],
   "source": [
    "x = data_plot.recov.values\n",
    "y = data_plot.confirmed.values\n",
    "t = data_plot.death.values\n",
    "\n",
    "ax = data_plot.plot(kind='scatter',\n",
    "                    x='recov',\n",
    "                    y='confirmed',\n",
    "                    figsize=(14, 8),\n",
    "                    alpha=0.5,                  # transparency\n",
    "                    s=data_plot.death.values,  # pass in weights \n",
    "                    c = t,\n",
    "                    cmap = 'autumn_r'                   \n",
    "                   )\n",
    "n = data_plot.index.values\n",
    "print(n)\n",
    "\n",
    "for i, txt in enumerate(n):\n",
    "    ax.annotate(str(txt), (x[i]-700, y[i]))\n",
    "ax.set_xlabel('Recovered Patients')\n",
    "ax.set_ylabel('Confirmed Patients')\n",
    "ax.set_title('Deaths VS confirmed/recovered patients for top 8 countries')"
   ]
  },
  {
   "cell_type": "code",
   "execution_count": null,
   "metadata": {
    "colab": {},
    "colab_type": "code",
    "id": "jSajVeIN8SAZ"
   },
   "outputs": [],
   "source": [
    "%%javascript\n",
    "IPython.OutputArea.prototype._should_scroll = function(lines) {\n",
    "    return false;\n",
    "}"
   ]
  },
  {
   "cell_type": "code",
   "execution_count": null,
   "metadata": {
    "colab": {},
    "colab_type": "code",
    "id": "bfGFTjgA8SAf"
   },
   "outputs": [],
   "source": [
    "df_death.reset_index(inplace = True)\n",
    "df_death.rename(columns = {'Country/Region':'country'},inplace = True)"
   ]
  },
  {
   "cell_type": "code",
   "execution_count": null,
   "metadata": {
    "colab": {},
    "colab_type": "code",
    "id": "Va8F0bT18SAk",
    "scrolled": true
   },
   "outputs": [],
   "source": [
    "# from folium import plugins\n",
    "\n",
    "world_map = folium.Map(location = [30.3753, 69.3451],zoom_start = 5) #Starting location = Pakistan\n",
    "folium.TileLayer('cartodbdark_matter').add_to(world_map)\n",
    "cases = folium.map.FeatureGroup()\n",
    "\n",
    "\n",
    "# for lat, lng, in zip(df_incidents.Y, df_incidents.X):\n",
    "#     incidents.add_child(\n",
    "#         folium.features.CircleMarker(\n",
    "#             [lat, lng],\n",
    "#             radius=5, # define how big you want the circle markers to be\n",
    "#             color='yellow',\n",
    "#             fill=True,\n",
    "#             fill_color='blue',\n",
    "#             fill_opacity=0.6\n",
    "#         )\n",
    "#     )\n",
    "\n",
    "# add incidents to map\n",
    "world_map.add_child(cases)\n",
    "death = df_death.iloc[:,-1]\n",
    "con = df_con.iloc[:,-1]\n",
    "# rec = df_rec.iloc[:,-1]\n",
    "for i,(lat, lng, label) in enumerate(df_death[['Lat','Long','country']].values):\n",
    "    if death[i] == 0 or np.isnan(death[i]):\n",
    "        continue\n",
    "#     if rec[i] == 0 or np.isnan(rec[i]):\n",
    "#         continue\n",
    "    if con[i] == 0 or np.isnan(con[i]):\n",
    "        continue\n",
    "    cases.add_child(\n",
    "        folium.CircleMarker(\n",
    "            [lat, lng],\n",
    "            radius=int(death[i]/100), \n",
    "#             color='red',\n",
    "            fill=True,\n",
    "#             popup=label,\n",
    "            popup = 'C:'+str(int(con[i]))+'\\n'+'D:'+str(int(death[i]))+'\\n',\n",
    "            fill_color='red',\n",
    "            fill_opacity=0.3,\n",
    "            opacity = 0.3\n",
    "        )).add_to(world_map)\n",
    "    \n",
    "world_map.add_child(folium.ClickForMarker(popup=\"COVID-19\"))\n",
    "\n",
    "world_map"
   ]
  },
  {
   "cell_type": "code",
   "execution_count": null,
   "metadata": {
    "colab": {},
    "colab_type": "code",
    "id": "lytbvkYj8SAo"
   },
   "outputs": [],
   "source": [
    "df_death.head()"
   ]
  },
  {
   "cell_type": "code",
   "execution_count": null,
   "metadata": {
    "colab": {},
    "colab_type": "code",
    "id": "-V0jtA_48SAx"
   },
   "outputs": [],
   "source": []
  }
 ],
 "metadata": {
  "colab": {
   "collapsed_sections": [],
   "name": "Covid-19.ipynb",
   "provenance": []
  },
  "kernelspec": {
   "display_name": "Python 3",
   "language": "python",
   "name": "python3"
  },
  "language_info": {
   "codemirror_mode": {
    "name": "ipython",
    "version": 3
   },
   "file_extension": ".py",
   "mimetype": "text/x-python",
   "name": "python",
   "nbconvert_exporter": "python",
   "pygments_lexer": "ipython3",
   "version": "3.6.5"
  }
 },
 "nbformat": 4,
 "nbformat_minor": 1
}
